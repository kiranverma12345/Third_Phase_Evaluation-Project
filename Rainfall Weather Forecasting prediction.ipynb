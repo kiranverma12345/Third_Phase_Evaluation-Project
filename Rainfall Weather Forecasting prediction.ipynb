{
 "cells": [
  {
   "cell_type": "code",
   "execution_count": null,
   "id": "7ab76fd5",
   "metadata": {},
   "outputs": [],
   "source": [
    "# importing the required libraries \n",
    "import pandas as pd \n",
    "import numpy as np\n",
    "import seaborn as sns\n",
    "import matplotlib.pyplot as plt\n",
    "import warnings\n",
    "warnings.filterwarnings(\"ignore\")\n",
    "from sklearn.linear_model import LogisticRegression\n",
    "from sklearn.naive_bayes import GaussianNB\n",
    "from sklearn.tree import DecisionTreeClassifier\n",
    "from sklearn.ensemble import RandomForestClassifier\n",
    "from sklearn.svm import SVC\n",
    "from sklearn.model_selection import  train_test_split\n",
    "from sklearn.metrics import accuracy_score\n",
    "from sklearn.metrics import roc_auc_score\n",
    "from sklearn.metrics import confusion_matrix, classification_report\n",
    "from sklearn.model_selection import cross_val_score\n"
   ]
  },
  {
   "cell_type": "code",
   "execution_count": 5,
   "id": "931f91b6",
   "metadata": {},
   "outputs": [],
   "source": [
    "df = pd.read_csv('https://raw.githubusercontent.com/dsrscientist/dataset3/main/weatherAUS.csv')"
   ]
  },
  {
   "cell_type": "code",
   "execution_count": 6,
   "id": "a0adce3a",
   "metadata": {},
   "outputs": [
    {
     "data": {
      "text/html": [
       "<div>\n",
       "<style scoped>\n",
       "    .dataframe tbody tr th:only-of-type {\n",
       "        vertical-align: middle;\n",
       "    }\n",
       "\n",
       "    .dataframe tbody tr th {\n",
       "        vertical-align: top;\n",
       "    }\n",
       "\n",
       "    .dataframe thead th {\n",
       "        text-align: right;\n",
       "    }\n",
       "</style>\n",
       "<table border=\"1\" class=\"dataframe\">\n",
       "  <thead>\n",
       "    <tr style=\"text-align: right;\">\n",
       "      <th></th>\n",
       "      <th>Date</th>\n",
       "      <th>Location</th>\n",
       "      <th>MinTemp</th>\n",
       "      <th>MaxTemp</th>\n",
       "      <th>Rainfall</th>\n",
       "      <th>Evaporation</th>\n",
       "      <th>Sunshine</th>\n",
       "      <th>WindGustDir</th>\n",
       "      <th>WindGustSpeed</th>\n",
       "      <th>WindDir9am</th>\n",
       "      <th>...</th>\n",
       "      <th>Humidity9am</th>\n",
       "      <th>Humidity3pm</th>\n",
       "      <th>Pressure9am</th>\n",
       "      <th>Pressure3pm</th>\n",
       "      <th>Cloud9am</th>\n",
       "      <th>Cloud3pm</th>\n",
       "      <th>Temp9am</th>\n",
       "      <th>Temp3pm</th>\n",
       "      <th>RainToday</th>\n",
       "      <th>RainTomorrow</th>\n",
       "    </tr>\n",
       "  </thead>\n",
       "  <tbody>\n",
       "    <tr>\n",
       "      <th>0</th>\n",
       "      <td>2008-12-01</td>\n",
       "      <td>Albury</td>\n",
       "      <td>13.4</td>\n",
       "      <td>22.9</td>\n",
       "      <td>0.6</td>\n",
       "      <td>NaN</td>\n",
       "      <td>NaN</td>\n",
       "      <td>W</td>\n",
       "      <td>44.0</td>\n",
       "      <td>W</td>\n",
       "      <td>...</td>\n",
       "      <td>71.0</td>\n",
       "      <td>22.0</td>\n",
       "      <td>1007.7</td>\n",
       "      <td>1007.1</td>\n",
       "      <td>8.0</td>\n",
       "      <td>NaN</td>\n",
       "      <td>16.9</td>\n",
       "      <td>21.8</td>\n",
       "      <td>No</td>\n",
       "      <td>No</td>\n",
       "    </tr>\n",
       "    <tr>\n",
       "      <th>1</th>\n",
       "      <td>2008-12-02</td>\n",
       "      <td>Albury</td>\n",
       "      <td>7.4</td>\n",
       "      <td>25.1</td>\n",
       "      <td>0.0</td>\n",
       "      <td>NaN</td>\n",
       "      <td>NaN</td>\n",
       "      <td>WNW</td>\n",
       "      <td>44.0</td>\n",
       "      <td>NNW</td>\n",
       "      <td>...</td>\n",
       "      <td>44.0</td>\n",
       "      <td>25.0</td>\n",
       "      <td>1010.6</td>\n",
       "      <td>1007.8</td>\n",
       "      <td>NaN</td>\n",
       "      <td>NaN</td>\n",
       "      <td>17.2</td>\n",
       "      <td>24.3</td>\n",
       "      <td>No</td>\n",
       "      <td>No</td>\n",
       "    </tr>\n",
       "    <tr>\n",
       "      <th>2</th>\n",
       "      <td>2008-12-03</td>\n",
       "      <td>Albury</td>\n",
       "      <td>12.9</td>\n",
       "      <td>25.7</td>\n",
       "      <td>0.0</td>\n",
       "      <td>NaN</td>\n",
       "      <td>NaN</td>\n",
       "      <td>WSW</td>\n",
       "      <td>46.0</td>\n",
       "      <td>W</td>\n",
       "      <td>...</td>\n",
       "      <td>38.0</td>\n",
       "      <td>30.0</td>\n",
       "      <td>1007.6</td>\n",
       "      <td>1008.7</td>\n",
       "      <td>NaN</td>\n",
       "      <td>2.0</td>\n",
       "      <td>21.0</td>\n",
       "      <td>23.2</td>\n",
       "      <td>No</td>\n",
       "      <td>No</td>\n",
       "    </tr>\n",
       "    <tr>\n",
       "      <th>3</th>\n",
       "      <td>2008-12-04</td>\n",
       "      <td>Albury</td>\n",
       "      <td>9.2</td>\n",
       "      <td>28.0</td>\n",
       "      <td>0.0</td>\n",
       "      <td>NaN</td>\n",
       "      <td>NaN</td>\n",
       "      <td>NE</td>\n",
       "      <td>24.0</td>\n",
       "      <td>SE</td>\n",
       "      <td>...</td>\n",
       "      <td>45.0</td>\n",
       "      <td>16.0</td>\n",
       "      <td>1017.6</td>\n",
       "      <td>1012.8</td>\n",
       "      <td>NaN</td>\n",
       "      <td>NaN</td>\n",
       "      <td>18.1</td>\n",
       "      <td>26.5</td>\n",
       "      <td>No</td>\n",
       "      <td>No</td>\n",
       "    </tr>\n",
       "    <tr>\n",
       "      <th>4</th>\n",
       "      <td>2008-12-05</td>\n",
       "      <td>Albury</td>\n",
       "      <td>17.5</td>\n",
       "      <td>32.3</td>\n",
       "      <td>1.0</td>\n",
       "      <td>NaN</td>\n",
       "      <td>NaN</td>\n",
       "      <td>W</td>\n",
       "      <td>41.0</td>\n",
       "      <td>ENE</td>\n",
       "      <td>...</td>\n",
       "      <td>82.0</td>\n",
       "      <td>33.0</td>\n",
       "      <td>1010.8</td>\n",
       "      <td>1006.0</td>\n",
       "      <td>7.0</td>\n",
       "      <td>8.0</td>\n",
       "      <td>17.8</td>\n",
       "      <td>29.7</td>\n",
       "      <td>No</td>\n",
       "      <td>No</td>\n",
       "    </tr>\n",
       "    <tr>\n",
       "      <th>...</th>\n",
       "      <td>...</td>\n",
       "      <td>...</td>\n",
       "      <td>...</td>\n",
       "      <td>...</td>\n",
       "      <td>...</td>\n",
       "      <td>...</td>\n",
       "      <td>...</td>\n",
       "      <td>...</td>\n",
       "      <td>...</td>\n",
       "      <td>...</td>\n",
       "      <td>...</td>\n",
       "      <td>...</td>\n",
       "      <td>...</td>\n",
       "      <td>...</td>\n",
       "      <td>...</td>\n",
       "      <td>...</td>\n",
       "      <td>...</td>\n",
       "      <td>...</td>\n",
       "      <td>...</td>\n",
       "      <td>...</td>\n",
       "      <td>...</td>\n",
       "    </tr>\n",
       "    <tr>\n",
       "      <th>8420</th>\n",
       "      <td>2017-06-21</td>\n",
       "      <td>Uluru</td>\n",
       "      <td>2.8</td>\n",
       "      <td>23.4</td>\n",
       "      <td>0.0</td>\n",
       "      <td>NaN</td>\n",
       "      <td>NaN</td>\n",
       "      <td>E</td>\n",
       "      <td>31.0</td>\n",
       "      <td>SE</td>\n",
       "      <td>...</td>\n",
       "      <td>51.0</td>\n",
       "      <td>24.0</td>\n",
       "      <td>1024.6</td>\n",
       "      <td>1020.3</td>\n",
       "      <td>NaN</td>\n",
       "      <td>NaN</td>\n",
       "      <td>10.1</td>\n",
       "      <td>22.4</td>\n",
       "      <td>No</td>\n",
       "      <td>No</td>\n",
       "    </tr>\n",
       "    <tr>\n",
       "      <th>8421</th>\n",
       "      <td>2017-06-22</td>\n",
       "      <td>Uluru</td>\n",
       "      <td>3.6</td>\n",
       "      <td>25.3</td>\n",
       "      <td>0.0</td>\n",
       "      <td>NaN</td>\n",
       "      <td>NaN</td>\n",
       "      <td>NNW</td>\n",
       "      <td>22.0</td>\n",
       "      <td>SE</td>\n",
       "      <td>...</td>\n",
       "      <td>56.0</td>\n",
       "      <td>21.0</td>\n",
       "      <td>1023.5</td>\n",
       "      <td>1019.1</td>\n",
       "      <td>NaN</td>\n",
       "      <td>NaN</td>\n",
       "      <td>10.9</td>\n",
       "      <td>24.5</td>\n",
       "      <td>No</td>\n",
       "      <td>No</td>\n",
       "    </tr>\n",
       "    <tr>\n",
       "      <th>8422</th>\n",
       "      <td>2017-06-23</td>\n",
       "      <td>Uluru</td>\n",
       "      <td>5.4</td>\n",
       "      <td>26.9</td>\n",
       "      <td>0.0</td>\n",
       "      <td>NaN</td>\n",
       "      <td>NaN</td>\n",
       "      <td>N</td>\n",
       "      <td>37.0</td>\n",
       "      <td>SE</td>\n",
       "      <td>...</td>\n",
       "      <td>53.0</td>\n",
       "      <td>24.0</td>\n",
       "      <td>1021.0</td>\n",
       "      <td>1016.8</td>\n",
       "      <td>NaN</td>\n",
       "      <td>NaN</td>\n",
       "      <td>12.5</td>\n",
       "      <td>26.1</td>\n",
       "      <td>No</td>\n",
       "      <td>No</td>\n",
       "    </tr>\n",
       "    <tr>\n",
       "      <th>8423</th>\n",
       "      <td>2017-06-24</td>\n",
       "      <td>Uluru</td>\n",
       "      <td>7.8</td>\n",
       "      <td>27.0</td>\n",
       "      <td>0.0</td>\n",
       "      <td>NaN</td>\n",
       "      <td>NaN</td>\n",
       "      <td>SE</td>\n",
       "      <td>28.0</td>\n",
       "      <td>SSE</td>\n",
       "      <td>...</td>\n",
       "      <td>51.0</td>\n",
       "      <td>24.0</td>\n",
       "      <td>1019.4</td>\n",
       "      <td>1016.5</td>\n",
       "      <td>3.0</td>\n",
       "      <td>2.0</td>\n",
       "      <td>15.1</td>\n",
       "      <td>26.0</td>\n",
       "      <td>No</td>\n",
       "      <td>No</td>\n",
       "    </tr>\n",
       "    <tr>\n",
       "      <th>8424</th>\n",
       "      <td>2017-06-25</td>\n",
       "      <td>Uluru</td>\n",
       "      <td>14.9</td>\n",
       "      <td>NaN</td>\n",
       "      <td>0.0</td>\n",
       "      <td>NaN</td>\n",
       "      <td>NaN</td>\n",
       "      <td>NaN</td>\n",
       "      <td>NaN</td>\n",
       "      <td>ESE</td>\n",
       "      <td>...</td>\n",
       "      <td>62.0</td>\n",
       "      <td>36.0</td>\n",
       "      <td>1020.2</td>\n",
       "      <td>1017.9</td>\n",
       "      <td>8.0</td>\n",
       "      <td>8.0</td>\n",
       "      <td>15.0</td>\n",
       "      <td>20.9</td>\n",
       "      <td>No</td>\n",
       "      <td>NaN</td>\n",
       "    </tr>\n",
       "  </tbody>\n",
       "</table>\n",
       "<p>8425 rows × 23 columns</p>\n",
       "</div>"
      ],
      "text/plain": [
       "            Date Location  MinTemp  MaxTemp  Rainfall  Evaporation  Sunshine  \\\n",
       "0     2008-12-01   Albury     13.4     22.9       0.6          NaN       NaN   \n",
       "1     2008-12-02   Albury      7.4     25.1       0.0          NaN       NaN   \n",
       "2     2008-12-03   Albury     12.9     25.7       0.0          NaN       NaN   \n",
       "3     2008-12-04   Albury      9.2     28.0       0.0          NaN       NaN   \n",
       "4     2008-12-05   Albury     17.5     32.3       1.0          NaN       NaN   \n",
       "...          ...      ...      ...      ...       ...          ...       ...   \n",
       "8420  2017-06-21    Uluru      2.8     23.4       0.0          NaN       NaN   \n",
       "8421  2017-06-22    Uluru      3.6     25.3       0.0          NaN       NaN   \n",
       "8422  2017-06-23    Uluru      5.4     26.9       0.0          NaN       NaN   \n",
       "8423  2017-06-24    Uluru      7.8     27.0       0.0          NaN       NaN   \n",
       "8424  2017-06-25    Uluru     14.9      NaN       0.0          NaN       NaN   \n",
       "\n",
       "     WindGustDir  WindGustSpeed WindDir9am  ... Humidity9am  Humidity3pm  \\\n",
       "0              W           44.0          W  ...        71.0         22.0   \n",
       "1            WNW           44.0        NNW  ...        44.0         25.0   \n",
       "2            WSW           46.0          W  ...        38.0         30.0   \n",
       "3             NE           24.0         SE  ...        45.0         16.0   \n",
       "4              W           41.0        ENE  ...        82.0         33.0   \n",
       "...          ...            ...        ...  ...         ...          ...   \n",
       "8420           E           31.0         SE  ...        51.0         24.0   \n",
       "8421         NNW           22.0         SE  ...        56.0         21.0   \n",
       "8422           N           37.0         SE  ...        53.0         24.0   \n",
       "8423          SE           28.0        SSE  ...        51.0         24.0   \n",
       "8424         NaN            NaN        ESE  ...        62.0         36.0   \n",
       "\n",
       "      Pressure9am  Pressure3pm  Cloud9am  Cloud3pm  Temp9am  Temp3pm  \\\n",
       "0          1007.7       1007.1       8.0       NaN     16.9     21.8   \n",
       "1          1010.6       1007.8       NaN       NaN     17.2     24.3   \n",
       "2          1007.6       1008.7       NaN       2.0     21.0     23.2   \n",
       "3          1017.6       1012.8       NaN       NaN     18.1     26.5   \n",
       "4          1010.8       1006.0       7.0       8.0     17.8     29.7   \n",
       "...           ...          ...       ...       ...      ...      ...   \n",
       "8420       1024.6       1020.3       NaN       NaN     10.1     22.4   \n",
       "8421       1023.5       1019.1       NaN       NaN     10.9     24.5   \n",
       "8422       1021.0       1016.8       NaN       NaN     12.5     26.1   \n",
       "8423       1019.4       1016.5       3.0       2.0     15.1     26.0   \n",
       "8424       1020.2       1017.9       8.0       8.0     15.0     20.9   \n",
       "\n",
       "      RainToday  RainTomorrow  \n",
       "0            No            No  \n",
       "1            No            No  \n",
       "2            No            No  \n",
       "3            No            No  \n",
       "4            No            No  \n",
       "...         ...           ...  \n",
       "8420         No            No  \n",
       "8421         No            No  \n",
       "8422         No            No  \n",
       "8423         No            No  \n",
       "8424         No           NaN  \n",
       "\n",
       "[8425 rows x 23 columns]"
      ]
     },
     "execution_count": 6,
     "metadata": {},
     "output_type": "execute_result"
    }
   ],
   "source": [
    "df"
   ]
  },
  {
   "cell_type": "code",
   "execution_count": 36,
   "id": "d3847218",
   "metadata": {},
   "outputs": [],
   "source": [
    "df=pd.read_csv('https://raw.githubusercontent.com/dsrscientist/dataset3/main/weatherAUS.csv')\n",
    "X = df.iloc[:,[1,2,3,4,7,8,9,10,11,12,13,14,15,16,17,18,19,20,21]].values\n",
    "Y= df.iloc[:,-1].values"
   ]
  },
  {
   "cell_type": "code",
   "execution_count": 37,
   "id": "253e31f7",
   "metadata": {},
   "outputs": [
    {
     "name": "stdout",
     "output_type": "stream",
     "text": [
      "[['Albury' 13.4 22.9 ... 16.9 21.8 'No']\n",
      " ['Albury' 7.4 25.1 ... 17.2 24.3 'No']\n",
      " ['Albury' 12.9 25.7 ... 21.0 23.2 'No']\n",
      " ...\n",
      " ['Uluru' 5.4 26.9 ... 12.5 26.1 'No']\n",
      " ['Uluru' 7.8 27.0 ... 15.1 26.0 'No']\n",
      " ['Uluru' 14.9 nan ... 15.0 20.9 'No']]\n"
     ]
    }
   ],
   "source": [
    "print (X)"
   ]
  },
  {
   "cell_type": "code",
   "execution_count": 38,
   "id": "6e37252d",
   "metadata": {},
   "outputs": [
    {
     "name": "stdout",
     "output_type": "stream",
     "text": [
      "['No' 'No' 'No' ... 'No' 'No' nan]\n"
     ]
    }
   ],
   "source": [
    "print(Y)"
   ]
  },
  {
   "cell_type": "code",
   "execution_count": 39,
   "id": "89bb02d4",
   "metadata": {},
   "outputs": [],
   "source": [
    "Y = Y.reshape(-1,1) # used to change 1d list into 2d list "
   ]
  },
  {
   "cell_type": "code",
   "execution_count": 40,
   "id": "adaa6446",
   "metadata": {},
   "outputs": [
    {
     "name": "stdout",
     "output_type": "stream",
     "text": [
      "[['No']\n",
      " ['No']\n",
      " ['No']\n",
      " ...\n",
      " ['No']\n",
      " ['No']\n",
      " [nan]]\n"
     ]
    }
   ],
   "source": [
    "print(Y)"
   ]
  },
  {
   "cell_type": "markdown",
   "id": "33018362",
   "metadata": {},
   "source": [
    "# Dealing with invalid dataset"
   ]
  },
  {
   "cell_type": "code",
   "execution_count": null,
   "id": "d9044dcc",
   "metadata": {},
   "outputs": [],
   "source": []
  },
  {
   "cell_type": "code",
   "execution_count": 41,
   "id": "ed416cdc",
   "metadata": {},
   "outputs": [],
   "source": [
    "from sklearn.impute import SimpleImputer\n",
    "imputer = SimpleImputer(missing_values=np.nan,strategy='most_frequent')"
   ]
  },
  {
   "cell_type": "code",
   "execution_count": 44,
   "id": "92d282c0",
   "metadata": {},
   "outputs": [],
   "source": [
    "X=imputer.fit_transform(X)\n",
    "Y=imputer.fit_transform(Y)"
   ]
  },
  {
   "cell_type": "code",
   "execution_count": 46,
   "id": "5277cab4",
   "metadata": {},
   "outputs": [
    {
     "name": "stdout",
     "output_type": "stream",
     "text": [
      "[[1 13.4 22.9 ... 16.9 21.8 0]\n",
      " [1 7.4 25.1 ... 17.2 24.3 0]\n",
      " [1 12.9 25.7 ... 21.0 23.2 0]\n",
      " ...\n",
      " [9 5.4 26.9 ... 12.5 26.1 0]\n",
      " [9 7.8 27.0 ... 15.1 26.0 0]\n",
      " [9 14.9 19.0 ... 15.0 20.9 0]]\n"
     ]
    }
   ],
   "source": [
    "print(X)"
   ]
  },
  {
   "cell_type": "code",
   "execution_count": 47,
   "id": "d3ad3eb9",
   "metadata": {},
   "outputs": [
    {
     "name": "stdout",
     "output_type": "stream",
     "text": [
      "[['No']\n",
      " ['No']\n",
      " ['No']\n",
      " ...\n",
      " ['No']\n",
      " ['No']\n",
      " ['No']]\n"
     ]
    }
   ],
   "source": [
    "print(Y)"
   ]
  },
  {
   "cell_type": "markdown",
   "id": "db589331",
   "metadata": {},
   "source": [
    "# Encoding Dataset"
   ]
  },
  {
   "cell_type": "code",
   "execution_count": 57,
   "id": "e2ddabc7",
   "metadata": {},
   "outputs": [],
   "source": [
    "from sklearn.preprocessing import LabelEncoder\n",
    "LE1 = LabelEncoder()\n",
    "X[:,0]=LE1.fit_transform(X[:,0])\n",
    "LE2 = LabelEncoder()\n",
    "X[:,4]=LE2.fit_transform(X[:,4])\n",
    "LE3 = LabelEncoder()\n",
    "X[:,6]=LE3.fit_transform(X[:,6])\n",
    "LE4 = LabelEncoder()\n",
    "X[:,7]=LE4.fit_transform(X[:,7])\n",
    "LE5 = LabelEncoder()\n",
    "X[:,-1]=LE5.fit_transform(X[:,-1])\n",
    "LE6 = LabelEncoder()\n",
    "Y = LE6.fit_transform(Y)\n",
    "\n"
   ]
  },
  {
   "cell_type": "code",
   "execution_count": 58,
   "id": "bfdc0da3",
   "metadata": {},
   "outputs": [
    {
     "name": "stdout",
     "output_type": "stream",
     "text": [
      "[[ 1.          0.04039106 -0.15101108 ... -0.15006358 -0.10175254\n",
      "   0.        ]\n",
      " [ 1.         -1.07478085  0.20800875 ... -0.09661746  0.318031\n",
      "   0.        ]\n",
      " [ 1.         -0.05253993  0.30592325 ...  0.58036664  0.13332624\n",
      "   0.        ]\n",
      " ...\n",
      " [ 9.         -1.44650482  0.50175225 ... -0.93393991  0.62027515\n",
      "   0.        ]\n",
      " [ 9.         -1.00043606  0.51807133 ... -0.47074026  0.60348381\n",
      "   0.        ]\n",
      " [ 9.          0.31918404 -0.78745533 ... -0.48855563 -0.25287462\n",
      "   0.        ]]\n"
     ]
    }
   ],
   "source": [
    "print(X)"
   ]
  },
  {
   "cell_type": "code",
   "execution_count": 60,
   "id": "f1b5c119",
   "metadata": {},
   "outputs": [
    {
     "name": "stdout",
     "output_type": "stream",
     "text": [
      "[0 0 0 ... 0 0 0]\n"
     ]
    }
   ],
   "source": [
    "print(Y)"
   ]
  },
  {
   "cell_type": "markdown",
   "id": "1ca7750c",
   "metadata": {},
   "source": [
    "# Feature Scaling "
   ]
  },
  {
   "cell_type": "code",
   "execution_count": 61,
   "id": "1029f120",
   "metadata": {},
   "outputs": [],
   "source": [
    "from sklearn.preprocessing import StandardScaler\n",
    "sc = StandardScaler()\n",
    "X = sc.fit_transform(X)"
   ]
  },
  {
   "cell_type": "code",
   "execution_count": 62,
   "id": "7172e04f",
   "metadata": {},
   "outputs": [
    {
     "name": "stdout",
     "output_type": "stream",
     "text": [
      "[[-1.51577598  0.04039106 -0.15101108 ... -0.15006358 -0.10175254\n",
      "  -0.55609919]\n",
      " [-1.51577598 -1.07478085  0.20800875 ... -0.09661746  0.318031\n",
      "  -0.55609919]\n",
      " [-1.51577598 -0.05253993  0.30592325 ...  0.58036664  0.13332624\n",
      "  -0.55609919]\n",
      " ...\n",
      " [ 1.01389522 -1.44650482  0.50175225 ... -0.93393991  0.62027515\n",
      "  -0.55609919]\n",
      " [ 1.01389522 -1.00043606  0.51807133 ... -0.47074026  0.60348381\n",
      "  -0.55609919]\n",
      " [ 1.01389522  0.31918404 -0.78745533 ... -0.48855563 -0.25287462\n",
      "  -0.55609919]]\n"
     ]
    }
   ],
   "source": [
    "print(X)"
   ]
  },
  {
   "cell_type": "markdown",
   "id": "7654d561",
   "metadata": {},
   "source": [
    "# Splitting dataset into Training set and Test set"
   ]
  },
  {
   "cell_type": "code",
   "execution_count": 63,
   "id": "656be7a5",
   "metadata": {},
   "outputs": [],
   "source": [
    "from sklearn.model_selection import train_test_split\n",
    "X_train,X_test,Y_train,Y_test = train_test_split(X,Y,test_size=0.2,random_state=0)"
   ]
  },
  {
   "cell_type": "code",
   "execution_count": 64,
   "id": "62fdd0be",
   "metadata": {},
   "outputs": [
    {
     "name": "stdout",
     "output_type": "stream",
     "text": [
      "[[ 0.06526852  0.8024252  -0.18364925 ...  0.40221293 -0.15212657\n",
      "  -0.55609919]\n",
      " [ 1.64631302  0.46787363 -0.37947825 ...  0.06372088 -0.4879534\n",
      "  -0.55609919]\n",
      " [-1.51577598 -1.33498763 -0.15101108 ... -0.86267843  0.03257819\n",
      "  -0.55609919]\n",
      " ...\n",
      " [-0.25094038 -0.75881547 -0.90168891 ... -0.70234009 -0.87415426\n",
      "  -0.55609919]\n",
      " [ 1.33010412  1.08121818  0.28960417 ...  0.93667407  0.28444832\n",
      "   1.79824035]\n",
      " [ 0.38147742 -0.4800225  -1.50549499 ... -0.7557862  -1.34431183\n",
      "   1.79824035]]\n"
     ]
    }
   ],
   "source": [
    "print(X_train)"
   ]
  },
  {
   "cell_type": "code",
   "execution_count": 65,
   "id": "f91bc9b4",
   "metadata": {},
   "outputs": [
    {
     "name": "stdout",
     "output_type": "stream",
     "text": [
      "[0 0 0 ... 1 0 1]\n"
     ]
    }
   ],
   "source": [
    "print(Y_train)"
   ]
  },
  {
   "cell_type": "markdown",
   "id": "cb8b702e",
   "metadata": {},
   "source": [
    "# Training the Model"
   ]
  },
  {
   "cell_type": "code",
   "execution_count": 66,
   "id": "80d515dc",
   "metadata": {},
   "outputs": [
    {
     "data": {
      "text/plain": [
       "RandomForestClassifier(random_state=0)"
      ]
     },
     "execution_count": 66,
     "metadata": {},
     "output_type": "execute_result"
    }
   ],
   "source": [
    "from sklearn.ensemble import RandomForestClassifier\n",
    "cl = RandomForestClassifier(n_estimators=100,random_state=0)\n",
    "cl.fit(X_train,Y_train)\n"
   ]
  },
  {
   "cell_type": "code",
   "execution_count": 67,
   "id": "7e7129fe",
   "metadata": {},
   "outputs": [
    {
     "data": {
      "text/plain": [
       "0.9998516320474777"
      ]
     },
     "execution_count": 67,
     "metadata": {},
     "output_type": "execute_result"
    }
   ],
   "source": [
    "cl.score(X_train,Y_train)"
   ]
  },
  {
   "cell_type": "code",
   "execution_count": 68,
   "id": "d9243583",
   "metadata": {},
   "outputs": [],
   "source": [
    "y_pred = cl.predict(X_test)"
   ]
  },
  {
   "cell_type": "code",
   "execution_count": 69,
   "id": "13c55f72",
   "metadata": {},
   "outputs": [
    {
     "name": "stdout",
     "output_type": "stream",
     "text": [
      "[0 0 0 ... 1 0 0]\n"
     ]
    }
   ],
   "source": [
    "print(y_pred)"
   ]
  },
  {
   "cell_type": "code",
   "execution_count": 70,
   "id": "ff2df64e",
   "metadata": {},
   "outputs": [],
   "source": [
    "y_pred = LE6.inverse_transform(y_pred) \n",
    "Y_test"
   ]
  },
  {
   "cell_type": "code",
   "execution_count": 71,
   "id": "eee0ec62",
   "metadata": {},
   "outputs": [
    {
     "name": "stdout",
     "output_type": "stream",
     "text": [
      "['No' 'No' 'No' ... 'Yes' 'No' 'No']\n"
     ]
    }
   ],
   "source": [
    "print(y_pred)"
   ]
  },
  {
   "cell_type": "code",
   "execution_count": 72,
   "id": "0d05d26a",
   "metadata": {},
   "outputs": [
    {
     "name": "stdout",
     "output_type": "stream",
     "text": [
      "[1 0 0 ... 1 0 0]\n"
     ]
    }
   ],
   "source": [
    "print(Y_test)"
   ]
  },
  {
   "cell_type": "code",
   "execution_count": 73,
   "id": "77d265ec",
   "metadata": {},
   "outputs": [],
   "source": [
    "Y_test = LE6.inverse_transform(Y_test)"
   ]
  },
  {
   "cell_type": "code",
   "execution_count": 74,
   "id": "b5909174",
   "metadata": {},
   "outputs": [
    {
     "name": "stdout",
     "output_type": "stream",
     "text": [
      "['Yes' 'No' 'No' ... 'Yes' 'No' 'No']\n"
     ]
    }
   ],
   "source": [
    "print(Y_test)"
   ]
  },
  {
   "cell_type": "code",
   "execution_count": 75,
   "id": "8f1e3539",
   "metadata": {},
   "outputs": [],
   "source": [
    "Y_test = Y_test.reshape(-1,1)\n",
    "y_pred = y_pred.reshape(-1,1)"
   ]
  },
  {
   "cell_type": "code",
   "execution_count": 79,
   "id": "9bb6e0cc",
   "metadata": {},
   "outputs": [],
   "source": [
    "df = np.concatenate((Y_test,y_pred),axis=1)\n",
    "dataframe = pd.DataFrame(df,columns=['Rain On Tommorrow ' , 'Prediction of Rain'])"
   ]
  },
  {
   "cell_type": "code",
   "execution_count": 81,
   "id": "2a4b4fe0",
   "metadata": {},
   "outputs": [
    {
     "name": "stdout",
     "output_type": "stream",
     "text": [
      "[['Yes' 'No']\n",
      " ['No' 'No']\n",
      " ['No' 'No']\n",
      " ...\n",
      " ['Yes' 'Yes']\n",
      " ['No' 'No']\n",
      " ['No' 'No']]\n"
     ]
    }
   ],
   "source": [
    "print(df)"
   ]
  },
  {
   "cell_type": "code",
   "execution_count": 83,
   "id": "b635cfc6",
   "metadata": {},
   "outputs": [
    {
     "name": "stdout",
     "output_type": "stream",
     "text": [
      "     Rain On Tommorrow  Prediction of Rain\n",
      "0                   Yes                 No\n",
      "1                    No                 No\n",
      "2                    No                 No\n",
      "3                    No                 No\n",
      "4                   Yes                Yes\n",
      "...                 ...                ...\n",
      "1680                Yes                 No\n",
      "1681                 No                 No\n",
      "1682                Yes                Yes\n",
      "1683                 No                 No\n",
      "1684                 No                 No\n",
      "\n",
      "[1685 rows x 2 columns]\n"
     ]
    }
   ],
   "source": [
    "print(dataframe)"
   ]
  },
  {
   "cell_type": "code",
   "execution_count": 82,
   "id": "523cf831",
   "metadata": {},
   "outputs": [],
   "source": [
    "dataframe.to_csv('prediction.csv')"
   ]
  },
  {
   "cell_type": "markdown",
   "id": "28d9a9bd",
   "metadata": {},
   "source": [
    "# Calculating Accuracy\n"
   ]
  },
  {
   "cell_type": "code",
   "execution_count": 85,
   "id": "6b03faf9",
   "metadata": {},
   "outputs": [
    {
     "data": {
      "text/plain": [
       "0.8991097922848664"
      ]
     },
     "execution_count": 85,
     "metadata": {},
     "output_type": "execute_result"
    }
   ],
   "source": [
    "from sklearn.metrics import accuracy_score\n",
    "accuracy_score(Y_test,y_pred)"
   ]
  },
  {
   "cell_type": "code",
   "execution_count": 86,
   "id": "c9be0f21",
   "metadata": {},
   "outputs": [],
   "source": [
    "dataframe.to_csv('prediction.csv')"
   ]
  },
  {
   "cell_type": "markdown",
   "id": "8822a206",
   "metadata": {},
   "source": [
    "The accuracy score is very good approx 90% with RandomForestClassifier "
   ]
  },
  {
   "cell_type": "code",
   "execution_count": null,
   "id": "54845271",
   "metadata": {},
   "outputs": [],
   "source": []
  }
 ],
 "metadata": {
  "kernelspec": {
   "display_name": "Python 3 (ipykernel)",
   "language": "python",
   "name": "python3"
  },
  "language_info": {
   "codemirror_mode": {
    "name": "ipython",
    "version": 3
   },
   "file_extension": ".py",
   "mimetype": "text/x-python",
   "name": "python",
   "nbconvert_exporter": "python",
   "pygments_lexer": "ipython3",
   "version": "3.9.13"
  }
 },
 "nbformat": 4,
 "nbformat_minor": 5
}
